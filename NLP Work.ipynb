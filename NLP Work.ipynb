{
 "cells": [
  {
   "cell_type": "markdown",
   "metadata": {},
   "source": [
    "# Reading Json file"
   ]
  },
  {
   "cell_type": "code",
   "execution_count": null,
   "metadata": {},
   "outputs": [],
   "source": [
    "# #function to read json file\n",
    "# def jsonreader(file):\n",
    "#     with open(file) as json_data:\n",
    "#         data = json.load(json_data)\n",
    "    \n",
    "#     df = pd.DataFrame()\n",
    "    \n",
    "#     for i in range(len(data)):\n",
    "#         #print(i)\n",
    "#         for j in range(len(data[i])):\n",
    "#             #print(len(data[i]), j)\n",
    "#             try:\n",
    "#                 df = df.append(pd.io.json.json_normalize(data[i][j]), ignore_index = True)\n",
    "#             except:\n",
    "#                 continue\n",
    "        \n",
    "#     return df"
   ]
  },
  {
   "cell_type": "code",
   "execution_count": null,
   "metadata": {},
   "outputs": [],
   "source": [
    "# with open('amazon_results3.json') as json_data:\n",
    "#         data = json.load(json_data)"
   ]
  },
  {
   "cell_type": "code",
   "execution_count": null,
   "metadata": {
    "scrolled": true
   },
   "outputs": [],
   "source": [
    "# data[25][99]"
   ]
  },
  {
   "cell_type": "code",
   "execution_count": null,
   "metadata": {},
   "outputs": [],
   "source": [
    "# reviews = jsonreader('amazon_results3.json')"
   ]
  },
  {
   "cell_type": "markdown",
   "metadata": {},
   "source": [
    "# Thank you Bruce for CSV formatting"
   ]
  },
  {
   "cell_type": "code",
   "execution_count": 2,
   "metadata": {},
   "outputs": [],
   "source": [
    "import pandas as pd\n",
    "import numpy as np"
   ]
  },
  {
   "cell_type": "code",
   "execution_count": 3,
   "metadata": {},
   "outputs": [],
   "source": [
    "reviews = pd.read_csv('combined_full-UTF-8.csv', encoding = 'UTF-8')"
   ]
  },
  {
   "cell_type": "code",
   "execution_count": 4,
   "metadata": {},
   "outputs": [
    {
     "data": {
      "text/html": [
       "<div>\n",
       "<style scoped>\n",
       "    .dataframe tbody tr th:only-of-type {\n",
       "        vertical-align: middle;\n",
       "    }\n",
       "\n",
       "    .dataframe tbody tr th {\n",
       "        vertical-align: top;\n",
       "    }\n",
       "\n",
       "    .dataframe thead th {\n",
       "        text-align: right;\n",
       "    }\n",
       "</style>\n",
       "<table border=\"1\" class=\"dataframe\">\n",
       "  <thead>\n",
       "    <tr style=\"text-align: right;\">\n",
       "      <th></th>\n",
       "      <th>Title</th>\n",
       "      <th>Consumer_Text</th>\n",
       "      <th>Review_OR_Question</th>\n",
       "      <th>Brand</th>\n",
       "      <th>Star_Rating</th>\n",
       "      <th>model</th>\n",
       "      <th>link</th>\n",
       "      <th>date</th>\n",
       "    </tr>\n",
       "  </thead>\n",
       "  <tbody>\n",
       "    <tr>\n",
       "      <th>8725</th>\n",
       "      <td>NaN</td>\n",
       "      <td>secure lock</td>\n",
       "      <td>review</td>\n",
       "      <td>Master Lock</td>\n",
       "      <td>4.0</td>\n",
       "      <td>1803DLF</td>\n",
       "      <td>2015-02-22:www.amazon.com/gp/customer-reviews/...</td>\n",
       "      <td>2015-02-22</td>\n",
       "    </tr>\n",
       "    <tr>\n",
       "      <th>38301</th>\n",
       "      <td>lock in picture is not the one you get</td>\n",
       "      <td>NaN</td>\n",
       "      <td>review</td>\n",
       "      <td>Master Lock</td>\n",
       "      <td>1.0</td>\n",
       "      <td>8114D</td>\n",
       "      <td>2018-05-06:www.amazon.com/gp/customer-reviews/...</td>\n",
       "      <td>2018-05-06</td>\n",
       "    </tr>\n",
       "    <tr>\n",
       "      <th>39267</th>\n",
       "      <td>Five Stars</td>\n",
       "      <td>NaN</td>\n",
       "      <td>review</td>\n",
       "      <td>Master Lock</td>\n",
       "      <td>5.0</td>\n",
       "      <td>720DPF</td>\n",
       "      <td>2017-01-10:www.amazon.com/gp/customer-reviews/...</td>\n",
       "      <td>2017-01-10</td>\n",
       "    </tr>\n",
       "    <tr>\n",
       "      <th>147986</th>\n",
       "      <td>DO NOT BUY!</td>\n",
       "      <td>NaN</td>\n",
       "      <td>review</td>\n",
       "      <td>SentrySafe</td>\n",
       "      <td>1.0</td>\n",
       "      <td>500</td>\n",
       "      <td>2015-02-20:www.amazon.com/gp/customer-reviews/...</td>\n",
       "      <td>2015-02-20</td>\n",
       "    </tr>\n",
       "  </tbody>\n",
       "</table>\n",
       "</div>"
      ],
      "text/plain": [
       "                                         Title Consumer_Text  \\\n",
       "8725                                       NaN   secure lock   \n",
       "38301   lock in picture is not the one you get           NaN   \n",
       "39267                               Five Stars           NaN   \n",
       "147986                             DO NOT BUY!           NaN   \n",
       "\n",
       "       Review_OR_Question        Brand  Star_Rating    model  \\\n",
       "8725               review  Master Lock          4.0  1803DLF   \n",
       "38301              review  Master Lock          1.0    8114D   \n",
       "39267              review  Master Lock          5.0   720DPF   \n",
       "147986             review   SentrySafe          1.0      500   \n",
       "\n",
       "                                                     link        date  \n",
       "8725    2015-02-22:www.amazon.com/gp/customer-reviews/...  2015-02-22  \n",
       "38301   2018-05-06:www.amazon.com/gp/customer-reviews/...  2018-05-06  \n",
       "39267   2017-01-10:www.amazon.com/gp/customer-reviews/...  2017-01-10  \n",
       "147986  2015-02-20:www.amazon.com/gp/customer-reviews/...  2015-02-20  "
      ]
     },
     "execution_count": 4,
     "metadata": {},
     "output_type": "execute_result"
    }
   ],
   "source": [
    "reviews[reviews.isnull().any(axis=1)]"
   ]
  },
  {
   "cell_type": "code",
   "execution_count": 5,
   "metadata": {},
   "outputs": [],
   "source": [
    "reviews = reviews.dropna()"
   ]
  },
  {
   "cell_type": "code",
   "execution_count": 6,
   "metadata": {},
   "outputs": [
    {
     "data": {
      "text/plain": [
       "(149910, 8)"
      ]
     },
     "execution_count": 6,
     "metadata": {},
     "output_type": "execute_result"
    }
   ],
   "source": [
    "reviews.shape"
   ]
  },
  {
   "cell_type": "markdown",
   "metadata": {},
   "source": [
    "# EDA"
   ]
  },
  {
   "cell_type": "code",
   "execution_count": 7,
   "metadata": {},
   "outputs": [
    {
     "data": {
      "text/html": [
       "<div>\n",
       "<style scoped>\n",
       "    .dataframe tbody tr th:only-of-type {\n",
       "        vertical-align: middle;\n",
       "    }\n",
       "\n",
       "    .dataframe tbody tr th {\n",
       "        vertical-align: top;\n",
       "    }\n",
       "\n",
       "    .dataframe thead th {\n",
       "        text-align: right;\n",
       "    }\n",
       "</style>\n",
       "<table border=\"1\" class=\"dataframe\">\n",
       "  <thead>\n",
       "    <tr style=\"text-align: right;\">\n",
       "      <th></th>\n",
       "      <th>Title</th>\n",
       "      <th>Consumer_Text</th>\n",
       "      <th>Review_OR_Question</th>\n",
       "      <th>Brand</th>\n",
       "      <th>Star_Rating</th>\n",
       "      <th>model</th>\n",
       "      <th>link</th>\n",
       "      <th>date</th>\n",
       "    </tr>\n",
       "  </thead>\n",
       "  <tbody>\n",
       "    <tr>\n",
       "      <th>0</th>\n",
       "      <td>Ball Hitch</td>\n",
       "      <td>Be careful, the diameter of the bottom part is...</td>\n",
       "      <td>review</td>\n",
       "      <td>Master Lock</td>\n",
       "      <td>3.0</td>\n",
       "      <td>2807DAT</td>\n",
       "      <td>2008-06-19:www.amazon.com/gp/customer-reviews/...</td>\n",
       "      <td>2008-06-19</td>\n",
       "    </tr>\n",
       "    <tr>\n",
       "      <th>1</th>\n",
       "      <td>Great Product</td>\n",
       "      <td>Just purchased a second one for the other car....</td>\n",
       "      <td>review</td>\n",
       "      <td>Master Lock</td>\n",
       "      <td>4.0</td>\n",
       "      <td>2807DAT</td>\n",
       "      <td>2008-02-25:www.amazon.com/gp/customer-reviews/...</td>\n",
       "      <td>2008-02-25</td>\n",
       "    </tr>\n",
       "    <tr>\n",
       "      <th>2</th>\n",
       "      <td>Works great for what I need</td>\n",
       "      <td>I have access to two trailers that I use frequ...</td>\n",
       "      <td>review</td>\n",
       "      <td>Master Lock</td>\n",
       "      <td>5.0</td>\n",
       "      <td>2807DAT</td>\n",
       "      <td>2007-12-31:www.amazon.com/gp/customer-reviews/...</td>\n",
       "      <td>2007-12-31</td>\n",
       "    </tr>\n",
       "    <tr>\n",
       "      <th>3</th>\n",
       "      <td>Master Lock</td>\n",
       "      <td>This item is another excellent example of the ...</td>\n",
       "      <td>review</td>\n",
       "      <td>Master Lock</td>\n",
       "      <td>5.0</td>\n",
       "      <td>2807DAT</td>\n",
       "      <td>2007-07-27:www.amazon.com/gp/customer-reviews/...</td>\n",
       "      <td>2007-07-27</td>\n",
       "    </tr>\n",
       "    <tr>\n",
       "      <th>4</th>\n",
       "      <td>Makes owning multiple trailers of different si...</td>\n",
       "      <td>Makes owning multiple trailers of different si...</td>\n",
       "      <td>review</td>\n",
       "      <td>Master Lock</td>\n",
       "      <td>5.0</td>\n",
       "      <td>2807DAT</td>\n",
       "      <td>2017-07-02:www.amazon.com/gp/customer-reviews/...</td>\n",
       "      <td>2017-07-02</td>\n",
       "    </tr>\n",
       "  </tbody>\n",
       "</table>\n",
       "</div>"
      ],
      "text/plain": [
       "                                               Title  \\\n",
       "0                                         Ball Hitch   \n",
       "1                                      Great Product   \n",
       "2                        Works great for what I need   \n",
       "3                                        Master Lock   \n",
       "4  Makes owning multiple trailers of different si...   \n",
       "\n",
       "                                       Consumer_Text Review_OR_Question  \\\n",
       "0  Be careful, the diameter of the bottom part is...             review   \n",
       "1  Just purchased a second one for the other car....             review   \n",
       "2  I have access to two trailers that I use frequ...             review   \n",
       "3  This item is another excellent example of the ...             review   \n",
       "4  Makes owning multiple trailers of different si...             review   \n",
       "\n",
       "         Brand  Star_Rating    model  \\\n",
       "0  Master Lock          3.0  2807DAT   \n",
       "1  Master Lock          4.0  2807DAT   \n",
       "2  Master Lock          5.0  2807DAT   \n",
       "3  Master Lock          5.0  2807DAT   \n",
       "4  Master Lock          5.0  2807DAT   \n",
       "\n",
       "                                                link        date  \n",
       "0  2008-06-19:www.amazon.com/gp/customer-reviews/...  2008-06-19  \n",
       "1  2008-02-25:www.amazon.com/gp/customer-reviews/...  2008-02-25  \n",
       "2  2007-12-31:www.amazon.com/gp/customer-reviews/...  2007-12-31  \n",
       "3  2007-07-27:www.amazon.com/gp/customer-reviews/...  2007-07-27  \n",
       "4  2017-07-02:www.amazon.com/gp/customer-reviews/...  2017-07-02  "
      ]
     },
     "execution_count": 7,
     "metadata": {},
     "output_type": "execute_result"
    }
   ],
   "source": [
    "reviews1 = reviews.copy()\n",
    "reviews1.head()"
   ]
  },
  {
   "cell_type": "code",
   "execution_count": 8,
   "metadata": {},
   "outputs": [
    {
     "data": {
      "text/html": [
       "<div>\n",
       "<style scoped>\n",
       "    .dataframe tbody tr th:only-of-type {\n",
       "        vertical-align: middle;\n",
       "    }\n",
       "\n",
       "    .dataframe tbody tr th {\n",
       "        vertical-align: top;\n",
       "    }\n",
       "\n",
       "    .dataframe thead tr th {\n",
       "        text-align: left;\n",
       "    }\n",
       "\n",
       "    .dataframe thead tr:last-of-type th {\n",
       "        text-align: right;\n",
       "    }\n",
       "</style>\n",
       "<table border=\"1\" class=\"dataframe\">\n",
       "  <thead>\n",
       "    <tr>\n",
       "      <th></th>\n",
       "      <th colspan=\"4\" halign=\"left\">Brand</th>\n",
       "      <th colspan=\"4\" halign=\"left\">Consumer_Text</th>\n",
       "      <th colspan=\"2\" halign=\"left\">Review_OR_Question</th>\n",
       "      <th>...</th>\n",
       "      <th colspan=\"2\" halign=\"left\">date</th>\n",
       "      <th colspan=\"4\" halign=\"left\">link</th>\n",
       "      <th colspan=\"4\" halign=\"left\">model</th>\n",
       "    </tr>\n",
       "    <tr>\n",
       "      <th></th>\n",
       "      <th>count</th>\n",
       "      <th>unique</th>\n",
       "      <th>top</th>\n",
       "      <th>freq</th>\n",
       "      <th>count</th>\n",
       "      <th>unique</th>\n",
       "      <th>top</th>\n",
       "      <th>freq</th>\n",
       "      <th>count</th>\n",
       "      <th>unique</th>\n",
       "      <th>...</th>\n",
       "      <th>top</th>\n",
       "      <th>freq</th>\n",
       "      <th>count</th>\n",
       "      <th>unique</th>\n",
       "      <th>top</th>\n",
       "      <th>freq</th>\n",
       "      <th>count</th>\n",
       "      <th>unique</th>\n",
       "      <th>top</th>\n",
       "      <th>freq</th>\n",
       "    </tr>\n",
       "    <tr>\n",
       "      <th>Star_Rating</th>\n",
       "      <th></th>\n",
       "      <th></th>\n",
       "      <th></th>\n",
       "      <th></th>\n",
       "      <th></th>\n",
       "      <th></th>\n",
       "      <th></th>\n",
       "      <th></th>\n",
       "      <th></th>\n",
       "      <th></th>\n",
       "      <th></th>\n",
       "      <th></th>\n",
       "      <th></th>\n",
       "      <th></th>\n",
       "      <th></th>\n",
       "      <th></th>\n",
       "      <th></th>\n",
       "      <th></th>\n",
       "      <th></th>\n",
       "      <th></th>\n",
       "      <th></th>\n",
       "    </tr>\n",
       "  </thead>\n",
       "  <tbody>\n",
       "    <tr>\n",
       "      <th>1.0</th>\n",
       "      <td>17715</td>\n",
       "      <td>5</td>\n",
       "      <td>Master Lock</td>\n",
       "      <td>13939</td>\n",
       "      <td>17715</td>\n",
       "      <td>9480</td>\n",
       "      <td>Save your money! This locked left me and my pr...</td>\n",
       "      <td>16</td>\n",
       "      <td>17715</td>\n",
       "      <td>1</td>\n",
       "      <td>...</td>\n",
       "      <td>2016-07-26</td>\n",
       "      <td>39</td>\n",
       "      <td>17715</td>\n",
       "      <td>17715</td>\n",
       "      <td>2015-04-09:www.amazon.com/gp/customer-reviews/...</td>\n",
       "      <td>1</td>\n",
       "      <td>17715</td>\n",
       "      <td>605</td>\n",
       "      <td>1500iD</td>\n",
       "      <td>651</td>\n",
       "    </tr>\n",
       "    <tr>\n",
       "      <th>2.0</th>\n",
       "      <td>7483</td>\n",
       "      <td>5</td>\n",
       "      <td>Master Lock</td>\n",
       "      <td>6033</td>\n",
       "      <td>7483</td>\n",
       "      <td>3883</td>\n",
       "      <td>The adjustment of the lock setback was difficu...</td>\n",
       "      <td>16</td>\n",
       "      <td>7483</td>\n",
       "      <td>1</td>\n",
       "      <td>...</td>\n",
       "      <td>2016-02-18</td>\n",
       "      <td>29</td>\n",
       "      <td>7483</td>\n",
       "      <td>7483</td>\n",
       "      <td>2015-09-18:www.amazon.com/gp/customer-reviews/...</td>\n",
       "      <td>1</td>\n",
       "      <td>7483</td>\n",
       "      <td>535</td>\n",
       "      <td>265DCCSEN</td>\n",
       "      <td>197</td>\n",
       "    </tr>\n",
       "    <tr>\n",
       "      <th>3.0</th>\n",
       "      <td>11606</td>\n",
       "      <td>5</td>\n",
       "      <td>Master Lock</td>\n",
       "      <td>8999</td>\n",
       "      <td>11606</td>\n",
       "      <td>5855</td>\n",
       "      <td>ok</td>\n",
       "      <td>34</td>\n",
       "      <td>11606</td>\n",
       "      <td>1</td>\n",
       "      <td>...</td>\n",
       "      <td>2015-07-28</td>\n",
       "      <td>43</td>\n",
       "      <td>11606</td>\n",
       "      <td>11606</td>\n",
       "      <td>2016-03-27:www.amazon.com/gp/customer-reviews/...</td>\n",
       "      <td>1</td>\n",
       "      <td>11606</td>\n",
       "      <td>581</td>\n",
       "      <td>4688DBLK</td>\n",
       "      <td>280</td>\n",
       "    </tr>\n",
       "    <tr>\n",
       "      <th>4.0</th>\n",
       "      <td>25233</td>\n",
       "      <td>5</td>\n",
       "      <td>Master Lock</td>\n",
       "      <td>18631</td>\n",
       "      <td>25233</td>\n",
       "      <td>11938</td>\n",
       "      <td>good</td>\n",
       "      <td>103</td>\n",
       "      <td>25233</td>\n",
       "      <td>1</td>\n",
       "      <td>...</td>\n",
       "      <td>2015-03-12</td>\n",
       "      <td>55</td>\n",
       "      <td>25233</td>\n",
       "      <td>25233</td>\n",
       "      <td>2012-10-26:www.amazon.com/gp/customer-reviews/...</td>\n",
       "      <td>1</td>\n",
       "      <td>25233</td>\n",
       "      <td>677</td>\n",
       "      <td>265DCCSEN</td>\n",
       "      <td>506</td>\n",
       "    </tr>\n",
       "    <tr>\n",
       "      <th>5.0</th>\n",
       "      <td>87873</td>\n",
       "      <td>6</td>\n",
       "      <td>Master Lock</td>\n",
       "      <td>69310</td>\n",
       "      <td>87873</td>\n",
       "      <td>38999</td>\n",
       "      <td>Great</td>\n",
       "      <td>320</td>\n",
       "      <td>87873</td>\n",
       "      <td>1</td>\n",
       "      <td>...</td>\n",
       "      <td>2015-07-13</td>\n",
       "      <td>152</td>\n",
       "      <td>87873</td>\n",
       "      <td>87873</td>\n",
       "      <td>2015-04-23:www.amazon.com/gp/customer-reviews/...</td>\n",
       "      <td>1</td>\n",
       "      <td>87873</td>\n",
       "      <td>792</td>\n",
       "      <td>5401D</td>\n",
       "      <td>2487</td>\n",
       "    </tr>\n",
       "  </tbody>\n",
       "</table>\n",
       "<p>5 rows × 28 columns</p>\n",
       "</div>"
      ],
      "text/plain": [
       "             Brand                            Consumer_Text         \\\n",
       "             count unique          top   freq         count unique   \n",
       "Star_Rating                                                          \n",
       "1.0          17715      5  Master Lock  13939         17715   9480   \n",
       "2.0           7483      5  Master Lock   6033          7483   3883   \n",
       "3.0          11606      5  Master Lock   8999         11606   5855   \n",
       "4.0          25233      5  Master Lock  18631         25233  11938   \n",
       "5.0          87873      6  Master Lock  69310         87873  38999   \n",
       "\n",
       "                                                                     \\\n",
       "                                                           top freq   \n",
       "Star_Rating                                                           \n",
       "1.0          Save your money! This locked left me and my pr...   16   \n",
       "2.0          The adjustment of the lock setback was difficu...   16   \n",
       "3.0                                                         ok   34   \n",
       "4.0                                                       good  103   \n",
       "5.0                                                      Great  320   \n",
       "\n",
       "            Review_OR_Question         ...         date        link         \\\n",
       "                         count unique  ...          top freq  count unique   \n",
       "Star_Rating                            ...                                   \n",
       "1.0                      17715      1  ...   2016-07-26   39  17715  17715   \n",
       "2.0                       7483      1  ...   2016-02-18   29   7483   7483   \n",
       "3.0                      11606      1  ...   2015-07-28   43  11606  11606   \n",
       "4.0                      25233      1  ...   2015-03-12   55  25233  25233   \n",
       "5.0                      87873      1  ...   2015-07-13  152  87873  87873   \n",
       "\n",
       "                                                                     model  \\\n",
       "                                                           top freq  count   \n",
       "Star_Rating                                                                  \n",
       "1.0          2015-04-09:www.amazon.com/gp/customer-reviews/...    1  17715   \n",
       "2.0          2015-09-18:www.amazon.com/gp/customer-reviews/...    1   7483   \n",
       "3.0          2016-03-27:www.amazon.com/gp/customer-reviews/...    1  11606   \n",
       "4.0          2012-10-26:www.amazon.com/gp/customer-reviews/...    1  25233   \n",
       "5.0          2015-04-23:www.amazon.com/gp/customer-reviews/...    1  87873   \n",
       "\n",
       "                                     \n",
       "            unique        top  freq  \n",
       "Star_Rating                          \n",
       "1.0            605     1500iD   651  \n",
       "2.0            535  265DCCSEN   197  \n",
       "3.0            581   4688DBLK   280  \n",
       "4.0            677  265DCCSEN   506  \n",
       "5.0            792      5401D  2487  \n",
       "\n",
       "[5 rows x 28 columns]"
      ]
     },
     "execution_count": 8,
     "metadata": {},
     "output_type": "execute_result"
    }
   ],
   "source": [
    "reviews1.groupby('Star_Rating').describe()"
   ]
  },
  {
   "cell_type": "code",
   "execution_count": 9,
   "metadata": {},
   "outputs": [
    {
     "data": {
      "text/html": [
       "<div>\n",
       "<style scoped>\n",
       "    .dataframe tbody tr th:only-of-type {\n",
       "        vertical-align: middle;\n",
       "    }\n",
       "\n",
       "    .dataframe tbody tr th {\n",
       "        vertical-align: top;\n",
       "    }\n",
       "\n",
       "    .dataframe thead th {\n",
       "        text-align: right;\n",
       "    }\n",
       "</style>\n",
       "<table border=\"1\" class=\"dataframe\">\n",
       "  <thead>\n",
       "    <tr style=\"text-align: right;\">\n",
       "      <th></th>\n",
       "      <th>Consumer_Text</th>\n",
       "      <th>length</th>\n",
       "    </tr>\n",
       "  </thead>\n",
       "  <tbody>\n",
       "    <tr>\n",
       "      <th>0</th>\n",
       "      <td>Be careful, the diameter of the bottom part is...</td>\n",
       "      <td>108</td>\n",
       "    </tr>\n",
       "    <tr>\n",
       "      <th>1</th>\n",
       "      <td>Just purchased a second one for the other car....</td>\n",
       "      <td>249</td>\n",
       "    </tr>\n",
       "    <tr>\n",
       "      <th>2</th>\n",
       "      <td>I have access to two trailers that I use frequ...</td>\n",
       "      <td>327</td>\n",
       "    </tr>\n",
       "    <tr>\n",
       "      <th>3</th>\n",
       "      <td>This item is another excellent example of the ...</td>\n",
       "      <td>114</td>\n",
       "    </tr>\n",
       "    <tr>\n",
       "      <th>4</th>\n",
       "      <td>Makes owning multiple trailers of different si...</td>\n",
       "      <td>139</td>\n",
       "    </tr>\n",
       "  </tbody>\n",
       "</table>\n",
       "</div>"
      ],
      "text/plain": [
       "                                       Consumer_Text  length\n",
       "0  Be careful, the diameter of the bottom part is...     108\n",
       "1  Just purchased a second one for the other car....     249\n",
       "2  I have access to two trailers that I use frequ...     327\n",
       "3  This item is another excellent example of the ...     114\n",
       "4  Makes owning multiple trailers of different si...     139"
      ]
     },
     "execution_count": 9,
     "metadata": {},
     "output_type": "execute_result"
    }
   ],
   "source": [
    "#making a length column\n",
    "reviews1['length'] = reviews['Consumer_Text'].apply(len)\n",
    "reviews1[['Consumer_Text','length']].head()"
   ]
  },
  {
   "cell_type": "code",
   "execution_count": 10,
   "metadata": {},
   "outputs": [],
   "source": [
    "import matplotlib.pyplot as plt\n",
    "import seaborn as sns\n",
    "\n",
    "%matplotlib inline"
   ]
  },
  {
   "cell_type": "code",
   "execution_count": 11,
   "metadata": {},
   "outputs": [
    {
     "data": {
      "text/plain": [
       "<matplotlib.axes._subplots.AxesSubplot at 0x1dd28935fd0>"
      ]
     },
     "execution_count": 11,
     "metadata": {},
     "output_type": "execute_result"
    },
    {
     "data": {
      "image/png": "[encoded data removed]",
      "text/plain": [
       "<Figure size 432x288 with 1 Axes>"
      ]
     },
     "metadata": {},
     "output_type": "display_data"
    }
   ],
   "source": [
    "#checking out the overall comment length per review\n",
    "reviews1['length'].plot(bins=50, kind='hist') "
   ]
  },
  {
   "cell_type": "code",
   "execution_count": 12,
   "metadata": {},
   "outputs": [
    {
     "data": {
      "text/plain": [
       "count    149910.000000\n",
       "mean        203.795831\n",
       "std         314.524546\n",
       "min           1.000000\n",
       "25%          43.000000\n",
       "50%         117.000000\n",
       "75%         242.000000\n",
       "max       22720.000000\n",
       "Name: length, dtype: float64"
      ]
     },
     "execution_count": 12,
     "metadata": {},
     "output_type": "execute_result"
    }
   ],
   "source": [
    "reviews1.length.describe()"
   ]
  },
  {
   "cell_type": "code",
   "execution_count": 13,
   "metadata": {},
   "outputs": [
    {
     "data": {
      "text/plain": [
       "'SentrySafe SFW123UDC Digital Alarm Safe, X-LargePREFACEEveryone should have a home security strategy. This fire safe will play an importantrole in mine. If a fire happens in your home, you do not want to spend any time at allworrying about or gathering important possessions and papers. You just want to getout (as you should). Simply having a secure central place to deposit anything of vitalimportance means less stress all around and on many levels. You won\\'t have to dealwith instances of misplacing or forgetting where something is or having it vulnerable toprying eyes or hands.This is an important purchase and it is not cheap. For that reason it is my aim in thisreview to provide a good sense of everything that there is to know about this safealong with my own impressions of it.I am providing this review based on my experience reviewing the big brother to this safe(XX-Large). The two are essentially the same other than size of course, and the includedinterior accessories. These differences are noted in detail below to help youmake a choice if you are debating between these two sizes.INTRODUCTIONThe Alarm Safe is SentrySafe\\'s newest and most feature-filled home fire safe (at the time of this writing). It was introduced at the end of 2014. It is their first safe to feature an audible alarm system. It is available in two sizes- this one (the XL) and the larger XXL version. While it was designed and built mainly to be a fire and storm peril safe, there happens to be a lot of security here as well. I feel pretty confident that this safe will afford me adequate security for my needs under most circumstances. One should not have any misconceptions however that this safe is meant by itself to be protection against skilled, professional burglars.This is my first experience with a home safe. Before obtaining this safe (XXL version), I was looking at and mostly interested in smaller safes. I had liked using a lot of those tiny digital safes that you find in hotel rooms, so I knew that I wanted something digital for the convenience and ease of use. Had I gone with a smaller safe, I am certain now that I would probably be regretting it. Now that I have a safe of this size, I can fully appreciate having something with room to grow. Additionally, I am finding it\\'s added features and benefits to be useful and worth having. Also of course, a bigger & heavier safe is harder for people to walk off with.<SPECIFICATIONS>First, you need to know the ACCURATE DIMENSIONS:(Amazon\\'s listing specs are incorrect)Exterior dimensions are 17.8\" H x 16.3\" W x 19.3\" DInterior dimensions are 13.8\" H x 12.6\" W x 11.9\" D1.2 cu. ft. capacity85.7 lbsFor comparison purposes, here is the size of the XXL VERSION:Exterior dimensions are 23.8\" H x 18.6\" W x 19.3\" DInterior dimensions are 19.6\" H x 14.8\" W x 11.9\" D2.0 cu. ft. capacity124.8 lbsCONSTRUCTION: 24 gauge steel body, 22 gauge steel door, back and front.Door is secured by six 1-inch steel bolts and a pry-resistant hinge bar.The handle is a hard plastic. Insulation is a proprietary concrete.XL VERSUS XXL - If you are debating between the two sizes, I think that your mainconsideration (aside from size and weight differences of course) should be howimportant being able to use hanging file folders is to you. I find the hanging foldersfeature of the XXL to be very convenient and keeps paperwork neat and easy to access.If you are using this for an office or even a home-office, then it should really be a no-brainer.<Key Feature Summary>-Protection against Fire and Storm/Flood Damage-*UL Classified to survive in a fire for 1 hour in up to 1700Â°F*ETL verified for the protection of USB drives, CDs, DVDs & portable hard drives*ETL verified water resistant in up to 8 in of water for up to 24 hrs*ETL verified impact resistant to stay intact after a 1-story fall-Protection Against Theft-*Loud audible alarm sounds when there is an attempt to move or force open your safe*4 Live-Locking bolts*Pry-Resistant Hinge Bar*Addition key lock to protect against unauthorized access*Bolt down Hardware (Included)-Additional Amenities-*Touch Keypad activates with your touch*LED Lighting*Fire Protection Guarantee*After Fire Replacement Guarantee*Very Clean & Modern Appearance, looks great even out in the open.*Built in the USA-UN-BOXINGIt comes in a sturdy cardboard box with dense Styrofoam inserts around the four corners portions. It is heavy and unwieldy, but of course you already know that due to the listed weight.An easy way to remove the safe from the carton is to first flip the box upside-down and open it from the bottom. Then remove the Styrofoam from the bottom and spread the four bottom flaps of the box out and away from the box (you might want to tape them to the sides or cut them if you do not plan on keeping the box). Then you can carefully roll it over on it\\'s side and then right-side up again. Now it\\'s easy to just lift the box up off the safe. Of course you should get it near to where you plan to keep first though.I happened to have bought a dolly specifically to help move and position this safe (in hindsight I did not really need it). In my case, after turning it upside-down, opening the bottom and removing the Styrofoam, I just rolled the box and safe right onto the dolly when I flipped it back over again. Then after sliding the box off the safe it was already on the dolly and ready to roll. There are four round protrusions on the bottom, roughly 1/8-1/4 of an inch, that serve somewhat as feet so that the whole bottom surface of it is not sitting on the floor. This makes it pretty easy to slide around a bit if you need to.FIRST IMPRESSIONSThe safe has a good durable finish. I get the impression that it will not scratch, scuff or stain easily. I was impressed and curious enough about this finish that I later did a bit of research to get some detail about what it is exactly. It turns out that it is a specialized paint called Polane, which is a polyurethane paint that is made by Sherwin-Williams and is quite costly. It is widely used for coating business/industrial machines and computers because of it\\'s resistance to stains, chemicals and abrasion, as well as for it\\'s hardness, impact resistance and long-term durability. In other words, feel free to man-handle this safe.The body of the safe is gunmetal grey in color. The door is black and of course has the digital key-pad on it, the auxiliary key lock and the lever for locking and unlocking the safe. When you receive the safe, the key-pad face is is covered with a protective plastic to keep it from scratching during shipment. The keypad is a touch screen which is flat-faced. There are no raised keys on this keypad as on their older models. It is touch activated, so it appears \"blacked-out\" until you touch it (you must touch on the right side where the numbers are located), at which point the keypad activates and the numbers light up. This design gives the safe a very clean and modern look to it\\'s face. When you press a number, it dims that number slightly to give you feedback that it has sensed your input. It also makes a beep sound which you have the option of turning off if you choose.Initially, I was a bit unhappy with the way that the handle felt. Not the handle itself, but that there is more \"play\" or free movement in it than I had expected, and I was wondering why this was so. For something such as a safe, I was thinking that the handle should feel pretty darn solid, especially since this is going to be my main point of physical contact with it. At that moment I was planning on deducting a star for this seemingly inexplicable design-flaw, oversight, (or whatever it was), but since I\\'m a safe newbie I decided to investigate this by calling the company first.I learned that there was a history of the handles and the mechanisms sometimes being broken or damaged due to a safe owner\\'s attempts at turning the handle with excessive force (sometimes while it was actually still locked). For this reason, SentrySafe developed a new handle assembly which incorporates a clutch (a torque-limiting clutch disengages the handle from the opening mechanism when excess force is applied), and this is the reason that the handle has \"play\" in it. I also learned that the handle is on a metal spindle, but that the handle itself is made of a very hard plastic. I wasn\\'t sure at first because it almost feels like it\\'s made of a metal material. Now that I was aware of this clutch mechanism and the reasoning behind it, any feelings of disappointment that I initially had were gone. In fact I was a bit impressed.FIRST OPENINGUpon opening the safe (it is shipped unlocked), the inside appears well appointed. The six bolts on the side of the door look reassuring as does the long encased hinge on the opposite side. The set-up and layout is well-thought out and makes it very easy to be organized.The inside of the door has a pocket for papers. It also has 6 hooks for keys andanother small pocket near the top for incidentals. The battery compartment is alsolocated here. The battery compartment cover actually houses the batteries themselves within it, so the four AAA batteries (which are included) remove completely with the cover so you don\\'t have to be fumbling in a dark closet, etc. while replacing them. There is a screw here with a long yellow tag attached to it telling you to remove the screw to activate the lock. The lock cannot be locked (except with the key) while this screw is in place. Yes, you can re-insert the screw in the future to deactivate the lock again (I tested this out), but I can not think of any reasons off-hand why someone might want to do this.The door swings fully open (and even a bit more than 180 degrees) giving you full, easy access into the safe, and to allow the drawers to be fully extended or removed. A couple of seconds after opening, two led lights on the right side of the door (which is now facing into the safe) turn on to illuminate the interior. I can see this being a well appreciated feature for many. If this is important, make sure that your configuration includes this feature (the \"C\" designation on the end of the model number indicates that it is). You can even choose if you want the light to remain on for either 30 or 60 seconds. You can also turn this feature off if you wish.DOCUMENTATION is inside the safe. These include: A QUICK START CARD with briefinstructions on preparing and setting up the safe (this also contains some important info - your model & serial number as well as the key No. and 5 digit factory code.) There is also the OWNER\"S MANUAL (with the same important info on the back), REGISTRATION CARD, WARRANTY and a certificate of insurance (see my comments about this below).INTERIORClearly a lot of thought went into the design, organization and layout of the interior of these safes.Before you even get into the safe itself you have the door pocket for a few documents, an i-pad (err.. I mean Kindle), tablet or such, (I will probably keep the safe\\'s documents here), and a very small compartment for items such as a few rings, USB drives, etc., along with 6 key hooks. This safe like, most of the company\\'s larger safes, has a modular configuration. I really like this because it gives you the ability to configure it for your own best use and also change it if you need to by purchasing additional accessories. The whole interior is wrapped in a hard molded plastic with channeled slots that serve as shelving rails. These goes right from very top to bottom so you can really make use of every square inch of space.This particular configuration comes with a locking shelf (SentrySafe 913 Locking Drawer Accessory for 0.8 or 1.2 Cubic Feet Safes). Although this drawer locks and has it\\'s own key, it is not very secure, so I would not rely on it for more than very casual privacy protection against others who might have access to your safe. As previously noted, this XL size safe cannot accommodate the hanging file drawer accessory while the XXL size does. When you extend the drawers fully, there is a stop feature to prevent you from pulling it out all the way, but at that point you can simply lift it slightly if you want to remove the drawer completely.There are a few other  shelves and trays that are available to purchase separately if you should ever need a different type of setup inside.PROGRAMMING THE CODESThere are three types of codes for accessing the safe. The first is the factory code (FC). This is a permanent code that will always open the safe. Some reviewers here mentioned not liking the idea of this. After inquiring with the company, I have learned that there will be a means in the future to remove this factory code for those who really want to (it will require purchasing and swapping out an inexpensive part called the actuator board, you can call SentrySafe for further info). The second and third codes that can be used to open the safe are 5 digit user programmable codes- the user code (UC) and secondary code (SC). Both of these can be changed or deleted at any time, however the SC can only be programmed after a UC is already activated. The SC also cannot be used to program the safe\\'s settings.ALARMThe alarm operates similar to a motion detection alarm on a car. It is triggered if the safe is picked up, jostled, moved or even just bumped. There are different sensitivity settings that you can select to prevent too many false alarms. The alarm is also triggered by 5 wrong code attempts entered. The alarm must be set EVERY time you lock the safe. It takes just 3 keystrokes to activate, after which an indicator will blink every 10 seconds to indicate that it has been activated.If the alarm is triggered, any of the safe\\'s codes must be entered to turn it off.The alarm has 5 sensitivity settings that you can select to prevent too many falsealarms. You can also choose the duration of the alarm, from 1 to 99 minutes.KEYThe safe has an additional key lock. It uses a tubular type key. This provides for a little extra amount of protection against unauthorized access into the safe. If someone finds out or guesses your code, they still cannot open it, if you locked it with your key.Here is another use for it- There may be a situation where you want two people to be present in order to open the safe. If only one person knows the codes and only a second person has the key, then one person cannot gain access without the other. I would not do this in a scenario requiring high security especially since I don\\'t know how easy it is to defeat the lock.~DESICCANTS & THE DREADED MOISTURE~Because the safe is designed to keep fire out, it also keeps all fresh air out.This is true of all fire safes. Additionally, the concrete fire insulation has a moisture content. For these reasons, if the safe is not opened periodically, moisture can build up inside. Some environments are more prone to having moisture inside of the safe than others.Moisture can cause mold and mildew to occur inside. Obviously you do not want that. Opening periodically is recommended (some say that optimally you should open for 10-20 minutes every few weeks to air it out), as is the use of moisture absorbing products called desiccants. Silica gel is a common desiccant material. The safe was shipped with a few of these inside of it already. Even with the use of desiccants, some routine maintenance is required. Desiccants have a maximum capacity of moisture that they can hold. This means that they must be regularly replaced or \"refreshed/recharged\" by drying them out in an oven. Some desiccant products have a humidity indicator to show, by color changes, the degree of water-saturation of the desiccant so that you know when it is time to change or refresh it (the color will also indicate when it is fully charged).If you want something a bit more convenient, there are desiccant products that yousimply plug into an AC outlet to recharge instead of having to use your oven. They look sort of like small smoke-detectors. One such is the Eva-dry Renewable E-333 Wireless Mini Dehumidifier, and I have just recently ordered one for myself.<<MISCELLANEOUS>>Battery Override: If the batteries powering the safe run too low to open it, you can use the battery auxiliary override feature. This simply means opening the small rubber cap on the side of the lock and connecting a 9 volt battery to the terminals inside.THINGS YOU SHOULD NOT STORE IN THIS SAFEDue to the high potential for moisture to accumulate inside the safe, delicate items such as jewelry with working parts, watches, stamps or photos should not be stored in this safe, unless first placed in an airtight container. Do not store pearls or film based media (diskettes, tapes, etc) due to the potential for the interior of the safe to reach 350 degrees F. in the even of a fire. You are also advised to not store firearms in it.What happens if you FORGET YOUR CODES?In this event, there are two methods to re-gain access to your safe. If you sign up for \"MySentrySafe\" on their website, you can retrieve any factory codes, your own codes or key codes that you stored there. They claim that the site is secure. (Is anything really secure these days?) Otherwise, you will need to fill out a form that you can obtain from SentrySafe\\'s website and sign it in front of a notary. After that, you mail it in and pay the $20 fee. They will then mail or email you the factory code.CERTIFICATE OF INSURANCE: This safe comes with a \"Fire Protection Limited Reimbursement Guarantee\". This is provided by a third party insurance provider. In my opinion, this certificate should be not be given much, if any, consideration as a reason to purchase this safe. The reason being that in reality and under most circumstances, it is not worth a whole lot. I will explain further (most can just skip this part unless you really want the detail).It should come as no surprise that there are many limitations and exceptions involved with this coverage. First you have to do a little digging to learn what the policy limits are. That\\'s because this safe is a newer one and it\\'s model number is not even included on the chart in the enclosed certificate which shows what it\\'s limit is. That chart lists limits of between $10K and $50K depending on which model of safe you own. After calling SentrySafe, I learned that this safe qualifies for a $25k coverage limit. That sounds pretty good doesn\\'t it? This is just an overall limit. There are many other sub-limitations. For example jewelry is limited to $500 per item, further not to exceed $1000 in any one occurrence. Money and securities is limited to $250! With these two limitations right there, I am not sure how the average person could ever get $25K worth of items into their safe. I wonder if by including this certificate with the safe it does more harm than good, since it may come across as disingenuous to some. Still, I cannot penalize the safe since all the info is there, you just need to dig into it. I thought it was important however to make note of it. Hang on though, we\\'re not finished.Aside from those very restrictive limitations of the coverage, the three most important things you need know about it are: 1) In order for anything to be covered, it must be reported on the registration card (oddly enough, the registration card contains no space for this!). Anything not reported or placed in the safe after the card is mailed in is not considered covered. 2) The coverage is valid for one year from date purchase, but may be extended for one additional year by notifying Sentry Group (on another registration card) that you wish to renew the certificate. 3) Only fire loss is covered. Water damage, theft, weather related calamities, war, etc. are not covered. I hope I didn\\'t leave anything out.The safe also come with an \"After Fire Replacement Guarantee\"In the event of a fire, SentrySafe will replace your fire-resistant. This seems pretty straight-forward. Hopefully, you won\\'t need to take advantage of any this.---WARNINGS WORTH REPEATING-- (because you don\\'t buy a safe every day)You cannot lock it and forget it. Moisture will build up inside and vulnerable contents will likely become damaged. You must either open to air it out regularly or keep desiccants inside and recharged as needed.This is not a burglary rated safe but a fire safe with pretty good security. It will protect you from more casual thieves or situations where noise would alert someone, but a burglary rated safe is a completely different animal. They are made with thicker steel, weigh much more (you cannot have them delivered via standard UPS/FedEx) and cost much more. Added layers of security (and some common sense) helps a bit with this, such as putting your safe in a harder to find or perhaps hidden location and using alarm system. Of course keeping your code secure also makes sense.--SUMMARY--I am quite happy and impressed with this safe. I tried to find short-comings or any reason to rate it less than excellent, but I just could not find anything that was not simply a part of the inherent nature of a fire safe such as this. It requires a bit of effort to maintain in order to keep it free of moisture, but it cannot be faulted for that since there is no getting around this with a safe of this kind. It looks and feels very solid. The design is very good. The finish is durable. The functionality is very good. It\\'s looks are good (as good as a safe could look). It\\'s ETL/UL ratings are very good. The \"coverage\" certificate is gimmicky, but I am willing to overlook that since it is not focused on in the marketing and just seems to be in as a bonus. It is not marketed as super security safe but as a fire safe, so it is not pretending to be something that it is not.Some might think that it is a bit on the expensive side, but I am not so sure that I agree. Here on Amazon you are getting it shipped to your door, not an insubstantial cost for something of this size and weight. It also comes with a heck of a lot of features, and is probably a one time purchase for most of us. You can spend less if you don\\'t care about the digital lock and the other features, just check out those models in this or the smaller size configuration.In CONCLUSION, after all considerations, I cannot rate this safe less than five stars, which to me means that a product exceeds expectations and gives me something that I can appreciate on many different levels, not just as a product.If you purchase or already own this safe, I\\'d love to know what YOU think, so please leave a comment or just say hello. Any notes, corrections or questions are ALL more than welcome.~I truly hope that this review was helpful.~Stay safe!'"
      ]
     },
     "execution_count": 13,
     "metadata": {},
     "output_type": "execute_result"
    }
   ],
   "source": [
    "#checking out the longest review. Guy has a lot of time on his hands\n",
    "reviews1[reviews1['length'] == 22720]['Consumer_Text'].iloc[0]"
   ]
  },
  {
   "cell_type": "code",
   "execution_count": 14,
   "metadata": {},
   "outputs": [
    {
     "data": {
      "text/plain": [
       "array([[<matplotlib.axes._subplots.AxesSubplot object at 0x000001DD28B68320>,\n",
       "        <matplotlib.axes._subplots.AxesSubplot object at 0x000001DD2872E9E8>],\n",
       "       [<matplotlib.axes._subplots.AxesSubplot object at 0x000001DD28757CF8>,\n",
       "        <matplotlib.axes._subplots.AxesSubplot object at 0x000001DD28787390>],\n",
       "       [<matplotlib.axes._subplots.AxesSubplot object at 0x000001DD28831A20>,\n",
       "        <matplotlib.axes._subplots.AxesSubplot object at 0x000001DD28831A58>]],\n",
       "      dtype=object)"
      ]
     },
     "execution_count": 14,
     "metadata": {},
     "output_type": "execute_result"
    },
    {
     "data": {
      "image/png": "[encoded data removed]",
      "text/plain": [
       "<Figure size 864x288 with 6 Axes>"
      ]
     },
     "metadata": {},
     "output_type": "display_data"
    }
   ],
   "source": [
    "#generating an idea of what the word count is like based on star rating\n",
    "reviews1.hist(column='length', by='Star_Rating', bins=50,figsize=(12,4))"
   ]
  },
  {
   "cell_type": "code",
   "execution_count": 15,
   "metadata": {},
   "outputs": [
    {
     "data": {
      "text/plain": [
       "(867,)"
      ]
     },
     "execution_count": 15,
     "metadata": {},
     "output_type": "execute_result"
    }
   ],
   "source": [
    "# how many uniue models there are\n",
    "reviews1['model'].unique().shape"
   ]
  },
  {
   "cell_type": "markdown",
   "metadata": {},
   "source": [
    "# Create Sub Dataframes based on review and model"
   ]
  },
  {
   "cell_type": "code",
   "execution_count": 15,
   "metadata": {},
   "outputs": [],
   "source": [
    "#groupby model in order to get a better breakdown\n",
    "reviews_joined = reviews1.groupby(['model']).agg({'Consumer_Text': lambda x: ' '.join(map(str,x))}).reset_index()\n",
    "reviews_joined_bad = reviews1[reviews1['Star_Rating'] < 4]\n",
    "reviews_joined_bad = reviews_joined_bad.groupby(['model']).agg({'Consumer_Text': lambda x: ' '.join(map(str,x))}).reset_index()\n",
    "#bi_lem_comb_bad, tri_lem_comb_bad = len_comb_generator(reviews_joined_bad)"
   ]
  },
  {
   "cell_type": "markdown",
   "metadata": {},
   "source": [
    "# NLP"
   ]
  },
  {
   "cell_type": "code",
   "execution_count": 16,
   "metadata": {},
   "outputs": [],
   "source": [
    "import re"
   ]
  },
  {
   "cell_type": "code",
   "execution_count": 17,
   "metadata": {},
   "outputs": [
    {
     "data": {
      "text/plain": [
       "['i', 'me', 'my', 'myself', 'we', 'our', 'ours', 'ourselves', 'you', \"you're\"]"
      ]
     },
     "execution_count": 17,
     "metadata": {},
     "output_type": "execute_result"
    }
   ],
   "source": [
    "import nltk\n",
    "from nltk.corpus import stopwords\n",
    "stopwords.words('english')[0:10] # Show some stop words"
   ]
  },
  {
   "cell_type": "code",
   "execution_count": 18,
   "metadata": {},
   "outputs": [],
   "source": [
    "from nltk.corpus import stopwords\n",
    "import nltk\n",
    "from nltk.stem.snowball import SnowballStemmer\n",
    "sno = SnowballStemmer(\"english\")\n",
    "stop = stopwords.words('english')\n",
    "add = ['safe', 'lock', 'locks', 'master', 'sentry','works','keys','masterlock', 'time']\n",
    "stop.extend(add)"
   ]
  },
  {
   "cell_type": "code",
   "execution_count": 19,
   "metadata": {},
   "outputs": [],
   "source": [
    "import pickle\n",
    "import time\n",
    "from sklearn.feature_extraction.text import TfidfVectorizer"
   ]
  },
  {
   "cell_type": "code",
   "execution_count": 33,
   "metadata": {},
   "outputs": [],
   "source": [
    "import string\n",
    "\n",
    "def text_process(mess):\n",
    "    \"\"\"\n",
    "    Takes in a string of text, then performs the following:\n",
    "    1. Remove all punctuation\n",
    "    2. Remove all stopwords\n",
    "    3. Returns a list of the cleaned text\n",
    "    \"\"\"\n",
    "    # Check characters to see if they are in punctuation\n",
    "    nopunc = [char for char in mess if char not in string.punctuation]\n",
    "\n",
    "    # Join the characters again to form the string.\n",
    "    nopunc = ''.join(nopunc)\n",
    "    \n",
    "    # Now just remove any stopwords\n",
    "    return [word for word in nopunc.split() if word.lower() not in stop]"
   ]
  },
  {
   "cell_type": "code",
   "execution_count": 34,
   "metadata": {},
   "outputs": [],
   "source": [
    "review_text = reviews1['Consumer_Text']"
   ]
  },
  {
   "cell_type": "code",
   "execution_count": 35,
   "metadata": {},
   "outputs": [],
   "source": [
    "reviews2 = reviews1['Consumer_Text'].apply(text_process)"
   ]
  },
  {
   "cell_type": "code",
   "execution_count": 36,
   "metadata": {},
   "outputs": [],
   "source": [
    "from nltk.stem.wordnet import WordNetLemmatizer\n",
    "lmtzr = WordNetLemmatizer()"
   ]
  },
  {
   "cell_type": "code",
   "execution_count": 41,
   "metadata": {},
   "outputs": [],
   "source": [
    "tot_reviews_stem = reviews2.apply(lambda x : [sno.stem(y) for y in x])"
   ]
  },
  {
   "cell_type": "code",
   "execution_count": 42,
   "metadata": {
    "scrolled": true
   },
   "outputs": [],
   "source": [
    "tot_sent = tot_reviews_stem.apply(lambda x: \" \".join(x))"
   ]
  },
  {
   "cell_type": "code",
   "execution_count": 43,
   "metadata": {},
   "outputs": [
    {
     "data": {
      "text/plain": [
       "0         [care, diamet, bottom, part, realli, big, woul...\n",
       "1         [purchas, second, one, car, 15, second, switch...\n",
       "2         [access, two, trailer, use, frequent, sinc, do...\n",
       "3         [item, anoth, excel, exampl, pride, qualiti, p...\n",
       "4         [make, multipl, trailer, differ, size, ball, m...\n",
       "5         [3, set, work, great, tend, get, surfac, rust,...\n",
       "6            [novel, ill, never, buy, regular, hitch, ball]\n",
       "7         [bought, small, util, trailer, take, 78, ball,...\n",
       "8                                             [exact, need]\n",
       "9         [great, quick, easi, ball, changeov, use, ten,...\n",
       "10        [alright, worri, tab, ball, corrod, think, got...\n",
       "11        [ok, clip, hold, keeper, bent, first, put, bal...\n",
       "12                                [nice, ball, easi, chang]\n",
       "13        [use, coupl, far, work, fine, easi, switch, ba...\n",
       "14        [immedi, fit, keep, cubbi, hole, use, need, ex...\n",
       "15        [great, hitch, connector, accommod, differ, ba...\n",
       "16        [often, tow, previous, vehicl, interchang, bal...\n",
       "17        [expect, high, qualiti, product, bought, mani,...\n",
       "18        [two, ball, one, shaft, love, keep, jeep, tow,...\n",
       "19        [awesom, idea, actual, real, life, impress, wa...\n",
       "20        [everyth, say, im, disappoint, good, qualiti, ...\n",
       "21        [trailer, 2, differ, ball, size, fantast, solu...\n",
       "22        [easi, instal, easi, chang, hitch, ball, size,...\n",
       "23        [item, anoth, excel, exampl, pride, qualiti, p...\n",
       "24        [product, came, great, condit, decid, use, key...\n",
       "25        [key, cabinet, appear, made, chines, gulagth, ...\n",
       "26        [ok, intend, purpos, organ, come, slot, tag, f...\n",
       "27        [anyth, would, describ, heavi, duti, box, qual...\n",
       "28        [perfect, second, practic, challeng, bid, key,...\n",
       "29                                            [need, thank]\n",
       "                                ...                        \n",
       "149884    [realli, good, big, hous, say, write, eleven, ...\n",
       "149885    [tad, small, store, lot, like, tax, return, de...\n",
       "149886    [receiv, good, could, say, latch, littl, cheap...\n",
       "149887    [would, give, product, zero, negat, star, poss...\n",
       "149888    [latch, broke, mine, warranti, period, poor, d...\n",
       "149889    [great, product, say, best, purchas, protect, ...\n",
       "149890    [receiv, morn, cant, hope, never, test, fire, ...\n",
       "149891    [fit, purpos, look, size, perfect, reason, rat...\n",
       "149892    [bought, product, old, longer, larg, enough, s...\n",
       "149893    [folk, pleas, pleas, save, hassl, ever, consid...\n",
       "149894    [buyth, deterior, handl, replac, batteri, ever...\n",
       "149895    [review, parent, put, import, paper, use, mani...\n",
       "149896    [purchas, week, arriv, develop, problem, enter...\n",
       "149897    [whatev, run, direct, aw, product, locksmith, ...\n",
       "149898                                              [great]\n",
       "149899    [pleas, g4311, 5, activ, bolt, 3, dead, bolt, ...\n",
       "149900    [two, certain, step, lesser, expens, gym, lock...\n",
       "149901    [littl, thinnner, wall, appear, function, grea...\n",
       "149902    [perfect, small, offic, use, hold, sever, digi...\n",
       "149903    [horribl, broke, start, anyth, us, also, ship,...\n",
       "149904                                 [great, love, price]\n",
       "149905                                [great, great, price]\n",
       "149906    [problem, arriv, pretti, bang, batteri, includ...\n",
       "149907    [box, suck, hard, cant, unlock, box, enter, pa...\n",
       "149908    [let, begin, get, straight, point, utter, junk...\n",
       "149909    [care, dimens, larger, expect, also, larg, man...\n",
       "149910    [use, day, 6, month, store, work, great, issu,...\n",
       "149911    [purchas, compani, money, deposit, howev, keyl...\n",
       "149912    [bought, gun, cabinet, tall, enough, hold, old...\n",
       "149913    [econom, storag, difficult, protect, long, fir...\n",
       "Name: Consumer_Text, Length: 149910, dtype: object"
      ]
     },
     "execution_count": 43,
     "metadata": {},
     "output_type": "execute_result"
    }
   ],
   "source": [
    "tot_sent.apply(text_process)"
   ]
  },
  {
   "cell_type": "code",
   "execution_count": null,
   "metadata": {},
   "outputs": [],
   "source": [
    "from sklearn.feature_extraction.text import CountVectorizer"
   ]
  },
  {
   "cell_type": "code",
   "execution_count": null,
   "metadata": {},
   "outputs": [],
   "source": [
    "%%time\n",
    "\n",
    "# Might take awhile...\n",
    "bow_transformer = CountVectorizer().fit(tot_sent)\n",
    "\n",
    "# Print total number of vocab words\n",
    "print(len(bow_transformer.vocabulary_))"
   ]
  },
  {
   "cell_type": "code",
   "execution_count": null,
   "metadata": {},
   "outputs": [],
   "source": [
    "text = bow_transformer.transform(review_text)"
   ]
  },
  {
   "cell_type": "code",
   "execution_count": null,
   "metadata": {},
   "outputs": [],
   "source": [
    "print('Shape of Sparse Matrix: ', text.shape)\n",
    "print('Amount of Non-Zero occurences: ',text.nnz)"
   ]
  },
  {
   "cell_type": "code",
   "execution_count": null,
   "metadata": {},
   "outputs": [],
   "source": [
    "from sklearn.feature_extraction.text import TfidfTransformer\n",
    "\n",
    "tfidf_transformer = TfidfTransformer().fit(text)\n",
    "text_tfidf = tfidf_transformer.transform(text)\n",
    "print(text_tfidf)"
   ]
  },
  {
   "cell_type": "code",
   "execution_count": null,
   "metadata": {},
   "outputs": [],
   "source": [
    "tf = TfidfVectorizer(input=review_text, analyzer='word', ngram_range=(1,6),\n",
    "                     min_df = 0, stop_words = 'english', sublinear_tf=True)\n",
    "tfidf_matrix =  tf.fit_transform(corpus)"
   ]
  },
  {
   "cell_type": "code",
   "execution_count": null,
   "metadata": {},
   "outputs": [],
   "source": []
  },
  {
   "cell_type": "code",
   "execution_count": null,
   "metadata": {},
   "outputs": [],
   "source": [
    "reviews2 = reviews1['Consumer_Text'][2]\n",
    "print(reviews2)"
   ]
  },
  {
   "cell_type": "code",
   "execution_count": null,
   "metadata": {},
   "outputs": [],
   "source": [
    "bow4 = bow_transformer.transform([reviews2])\n",
    "print(bow4)\n",
    "print(bow4.shape)"
   ]
  },
  {
   "cell_type": "code",
   "execution_count": null,
   "metadata": {},
   "outputs": [],
   "source": [
    "print(bow_transformer.get_feature_names()[31299])"
   ]
  },
  {
   "cell_type": "code",
   "execution_count": null,
   "metadata": {},
   "outputs": [],
   "source": [
    "reviews_bow = bow_transformer.transform(reviews1['Consumer_Text'])"
   ]
  },
  {
   "cell_type": "code",
   "execution_count": null,
   "metadata": {},
   "outputs": [],
   "source": [
    "import seaborn as sns\n",
    "from matplotlib import pyplot as plt"
   ]
  },
  {
   "cell_type": "code",
   "execution_count": null,
   "metadata": {},
   "outputs": [],
   "source": [
    "% matplotlib inline"
   ]
  },
  {
   "cell_type": "code",
   "execution_count": null,
   "metadata": {},
   "outputs": [],
   "source": []
  },
  {
   "cell_type": "markdown",
   "metadata": {},
   "source": [
    "# Peter's Code"
   ]
  },
  {
   "cell_type": "code",
   "execution_count": null,
   "metadata": {},
   "outputs": [],
   "source": [
    "import pandas as pd\n",
    "import numpy as np\n",
    "import json"
   ]
  },
  {
   "cell_type": "code",
   "execution_count": null,
   "metadata": {},
   "outputs": [],
   "source": [
    "# Update puncuation list in spacy\n",
    "nlp.vocab[\"$\"].is_punct = True\n",
    "nlp.vocab[\"|\"].is_punct = True\n",
    "nlp.vocab[\"+\"].is_punct = True\n",
    "nlp.vocab[\"<\"].is_punct = True\n",
    "nlp.vocab[\">\"].is_punct = True\n",
    "nlp.vocab[\"=\"].is_punct = True\n",
    "nlp.vocab[\"^\"].is_punct = True\n",
    "nlp.vocab[\"`\"].is_punct = True\n",
    "nlp.vocab[\"~\"].is_punct = True"
   ]
  },
  {
   "cell_type": "code",
   "execution_count": null,
   "metadata": {},
   "outputs": [],
   "source": [
    "review_txt = reviews.Consumer_Text.values"
   ]
  },
  {
   "cell_type": "code",
   "execution_count": null,
   "metadata": {},
   "outputs": [],
   "source": [
    "import re\n",
    "\n",
    "for idx in range(len(review_txt)):\n",
    "    review_txt[idx] = re.sub(r'@([A-Za-z0-9_]+)', \"\", str(review_txt[idx]))"
   ]
  },
  {
   "cell_type": "code",
   "execution_count": null,
   "metadata": {},
   "outputs": [],
   "source": [
    "for idx in range(len(review_txt)):\n",
    "    review_txt[idx] = re.sub(r\"(https|http)\\S+\", \"\", str(review_txt[idx]))"
   ]
  },
  {
   "cell_type": "code",
   "execution_count": null,
   "metadata": {},
   "outputs": [],
   "source": [
    "lem = lemmatize_txt(review_txt)"
   ]
  },
  {
   "cell_type": "markdown",
   "metadata": {},
   "source": [
    "# Text Processing"
   ]
  },
  {
   "cell_type": "code",
   "execution_count": null,
   "metadata": {},
   "outputs": [],
   "source": [
    "import gensim\n",
    "from gensim.models import Phrases\n",
    "from gensim.models.phrases import Phraser"
   ]
  },
  {
   "cell_type": "code",
   "execution_count": null,
   "metadata": {},
   "outputs": [],
   "source": [
    "import pickle\n",
    "import time\n",
    "from sklearn.feature_extraction.text import TfidfVectorizer"
   ]
  },
  {
   "cell_type": "code",
   "execution_count": null,
   "metadata": {},
   "outputs": [],
   "source": [
    "% matplotlib inline\n",
    "import matplotlib.pyplot as plt"
   ]
  },
  {
   "cell_type": "code",
   "execution_count": null,
   "metadata": {},
   "outputs": [],
   "source": [
    "#create bi-grams for text\n",
    "phrases = Phrases(lem)\n",
    "bigram = Phraser(phrases)\n",
    "bigram_lem = list(bigram[lem])"
   ]
  },
  {
   "cell_type": "code",
   "execution_count": null,
   "metadata": {},
   "outputs": [],
   "source": [
    "# Create tri-grams for our text\n",
    "phrases2 = Phrases(bigram_lem)\n",
    "trigram = Phraser(phrases2)\n",
    "trigram_lem = list(trigram[bigram_lem])"
   ]
  },
  {
   "cell_type": "code",
   "execution_count": null,
   "metadata": {},
   "outputs": [],
   "source": [
    "# Recombine full article text for unigrams, bigrams, and trigrams\n",
    "uni_lem_comb = lemma_combine(lem)\n",
    "bi_lem_comb = lemma_combine(bigram_lem)\n",
    "tri_lem_comb = lemma_combine(trigram_lem)"
   ]
  },
  {
   "cell_type": "code",
   "execution_count": null,
   "metadata": {},
   "outputs": [],
   "source": [
    "def top_tfidf_feats(row, features, top_n=25):\n",
    "    ''' Get top n tfidf values in row and return them with their corresponding feature names.'''\n",
    "    topn_ids = np.argsort(row)[::-1][:top_n]\n",
    "    top_feats = [(features[i], row[i]) for i in topn_ids]\n",
    "    df = pd.DataFrame(top_feats)\n",
    "    df.columns = ['feature', 'tfidf']\n",
    "    return df"
   ]
  },
  {
   "cell_type": "code",
   "execution_count": null,
   "metadata": {},
   "outputs": [],
   "source": [
    "def top_overall_words(text, features, min_tfidf=0.1, top_n=25):\n",
    "    ''' Return the top n features that on average are most important amongst documents in rows\n",
    "        indentified by indices in ids. '''\n",
    "    D = text\n",
    "    D[D < min_tfidf] = 0 # so common words across all documents won't dominate - may remove\n",
    "    tfidf_mean = np.mean(D, axis=0)\n",
    "    return top_tfidf_feats(tfidf_mean, features, top_n)"
   ]
  },
  {
   "cell_type": "code",
   "execution_count": null,
   "metadata": {},
   "outputs": [],
   "source": [
    "def tfidf_generator(lem_comb):\n",
    "    tfidf = TfidfVectorizer(min_df = 0.001, max_df = 0.75)\n",
    "    text_tfidf = tfidf.fit_transform(lem_comb)\n",
    "    dense_text = text_tfidf.todense()\n",
    "    dense_text2 = np.squeeze(np.asarray(dense_text))\n",
    "    features = tfidf.get_feature_names()\n",
    "    return top_overall_words(dense_text2, features)"
   ]
  },
  {
   "cell_type": "code",
   "execution_count": null,
   "metadata": {},
   "outputs": [],
   "source": [
    "bi_lem, tri_lem = len_comb_generator(reviews_barska)"
   ]
  },
  {
   "cell_type": "code",
   "execution_count": null,
   "metadata": {},
   "outputs": [],
   "source": [
    "bi_barska = tfidf_generator(bi_lem_comb_barska)\n",
    "plt.figure(figsize=(12,6))\n",
    "bi_barska.sort_values(by = 'tfidf', ascending=True).plot.barh(x ='feature')"
   ]
  },
  {
   "cell_type": "code",
   "execution_count": null,
   "metadata": {},
   "outputs": [],
   "source": []
  }
 ],
 "metadata": {
  "anaconda-cloud": {},
  "kernelspec": {
   "display_name": "Python 3",
   "language": "python",
   "name": "python3"
  },
  "language_info": {
   "codemirror_mode": {
    "name": "ipython",
    "version": 3
   },
   "file_extension": ".py",
   "mimetype": "text/x-python",
   "name": "python",
   "nbconvert_exporter": "python",
   "pygments_lexer": "ipython3",
   "version": "3.6.5"
  }
 },
 "nbformat": 4,
 "nbformat_minor": 2
}
